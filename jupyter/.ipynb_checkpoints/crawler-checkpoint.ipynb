{
 "cells": [
  {
   "cell_type": "code",
   "execution_count": 1,
   "id": "b7be9bd8-3159-49af-a5c4-f62ca64ca663",
   "metadata": {},
   "outputs": [],
   "source": [
    "#pip install wget, mysql-connector-python"
   ]
  },
  {
   "cell_type": "code",
   "execution_count": 2,
   "id": "ecc67c94-94b0-4ae5-8843-85e615b396aa",
   "metadata": {},
   "outputs": [],
   "source": [
    "import requests\n",
    "from bs4 import BeautifulSoup"
   ]
  },
  {
   "cell_type": "markdown",
   "id": "3b193f75-88c9-4f17-97d0-d691a9bd05d6",
   "metadata": {},
   "source": [
    "## Setting Database MySQL Python"
   ]
  },
  {
   "cell_type": "code",
   "execution_count": 3,
   "id": "18ae32de-c637-4bb1-921f-17c10304cd87",
   "metadata": {},
   "outputs": [],
   "source": [
    "import mysql.connector\n",
    "database_name = \"crawling_database\""
   ]
  },
  {
   "cell_type": "code",
   "execution_count": 4,
   "id": "08b3c2f8-5585-4b0b-9344-57de76a384ba",
   "metadata": {},
   "outputs": [],
   "source": [
    "mydb = mysql.connector.connect(\n",
    "  host=\"dbcrawling\",\n",
    "  user=\"root\",\n",
    "  password=\"root\",\n",
    ")\n",
    "mycursor = mydb.cursor()"
   ]
  },
  {
   "cell_type": "markdown",
   "id": "431f07a5-3413-4333-8ad5-7c226bff1a1e",
   "metadata": {},
   "source": [
    "`delete when need it`"
   ]
  },
  {
   "cell_type": "code",
   "execution_count": 5,
   "id": "3828066a-0350-4523-9413-3480cd42829d",
   "metadata": {},
   "outputs": [],
   "source": [
    "# mycursor.execute(\"DROP DATABASE crawling_data\")"
   ]
  },
  {
   "cell_type": "markdown",
   "id": "fc07c45e-a265-4672-9ddb-7999832f59eb",
   "metadata": {},
   "source": [
    "`create database`"
   ]
  },
  {
   "cell_type": "code",
   "execution_count": 6,
   "id": "3fac287e-4cd7-42ef-9ced-3ba47beb5ec8",
   "metadata": {},
   "outputs": [],
   "source": [
    "mycursor.execute(\"CREATE DATABASE IF NOT EXISTS \"+database_name)\n",
    "mydb = mysql.connector.connect(\n",
    "  host=\"dbcrawling\",\n",
    "  user=\"root\",\n",
    "  password=\"root\",\n",
    "  database= database_name\n",
    ")\n",
    "mycursor = mydb.cursor()"
   ]
  },
  {
   "cell_type": "markdown",
   "id": "1972ec8d-68d8-4ac9-a758-a863b2bc7a1e",
   "metadata": {},
   "source": [
    "`create table`"
   ]
  },
  {
   "cell_type": "code",
   "execution_count": 7,
   "id": "8bef48d1-4804-45e7-9fa1-8472c1a27a1e",
   "metadata": {},
   "outputs": [],
   "source": [
    "mycursor.execute(\"CREATE TABLE IF NOT EXISTS crawling_link (id int NOT NULL AUTO_INCREMENT, link varchar(255), status VARCHAR(255), PRIMARY KEY (id))\")\n",
    "mycursor.execute(\"CREATE TABLE IF NOT EXISTS crawling_detail (id int NOT NULL AUTO_INCREMENT,nomor varchar(255),tingkat_proses varchar(255),klasifikasi varchar(255),kata_kunci varchar(255),tahun varchar(255),tanggal_register varchar(255),lembaga_peradilan varchar(255),jenis_lembaga_peradilan varchar(255),hakim_ketua varchar(255),hakim_anggota varchar(255),panitera varchar(255),amar varchar(255),amar_lainnya varchar(255),catatan_amar text,tanggal_musyawarah varchar(255),tanggal_dibacakan varchar(255),kaidah varchar(255),abstrak varchar(255),source_url text,nama_file text,url_file text,crawling_file text, status_download varchar(255), PRIMARY KEY (id))\")"
   ]
  },
  {
   "cell_type": "markdown",
   "id": "da53fc4c-5463-4596-86d3-24914c1b9fd2",
   "metadata": {},
   "source": [
    "`All SQL Language`"
   ]
  },
  {
   "cell_type": "code",
   "execution_count": 8,
   "id": "ced52e75-080c-4aef-be16-fbc6e305c264",
   "metadata": {},
   "outputs": [],
   "source": [
    "sql_insert_data_crawling = \"INSERT INTO crawling_link (link, status) VALUES (%s, %s)\""
   ]
  },
  {
   "cell_type": "markdown",
   "id": "b3e2f099-071e-496f-89dd-5303dc8cb108",
   "metadata": {},
   "source": [
    "## Get Information Landing Page"
   ]
  },
  {
   "cell_type": "code",
   "execution_count": 9,
   "id": "b21df2b5-03cf-470f-a9d7-dbe1a0faf0f2",
   "metadata": {},
   "outputs": [],
   "source": [
    "landingpage = requests.get(\"https://putusan3.mahkamahagung.go.id/search.html?q=&jenis_doc=putusan&cat=&jd=&tp=&court=&t_put=&t_reg=&t_upl=&t_pr=\")\n",
    "soup_landingpage = BeautifulSoup(landingpage.text, 'html.parser')"
   ]
  },
  {
   "cell_type": "markdown",
   "id": "6ff22a69-b53b-4629-8e1f-889df1804ea2",
   "metadata": {},
   "source": [
    "## Get Last Page Number"
   ]
  },
  {
   "cell_type": "code",
   "execution_count": 10,
   "id": "a5320c23-139e-492f-a105-de5e948ebba3",
   "metadata": {},
   "outputs": [
    {
     "data": {
      "text/plain": [
       "499"
      ]
     },
     "execution_count": 10,
     "metadata": {},
     "output_type": "execute_result"
    }
   ],
   "source": [
    "pagination = soup_landingpage.find_all(\"a\",{\"class\":\"page-link\"})\n",
    "halaman = list(filter(lambda _ : _.text == \"Last\",pagination))[-1]\n",
    "total_halaman = halaman.get('href')\n",
    "num_total_halaman = int(total_halaman.split(\"=\")[-1])\n",
    "num_total_halaman"
   ]
  },
  {
   "cell_type": "markdown",
   "id": "fee354e5-b01f-4aa0-b449-f141f4a7e737",
   "metadata": {},
   "source": [
    "## Get Item Post List"
   ]
  },
  {
   "cell_type": "code",
   "execution_count": 11,
   "id": "019bf536-2554-4ef7-91f9-c957ea6b7123",
   "metadata": {},
   "outputs": [],
   "source": [
    "def get_post_list(num_page,num_total_halaman=num_total_halaman):\n",
    "    url_page = \"https://putusan3.mahkamahagung.go.id/search.html?jenis_doc=putusan&page=\"+str(num_page)\n",
    "    new_landingpage = requests.get(url_page)\n",
    "    soup_landingpage = BeautifulSoup(new_landingpage.text, 'html.parser')\n",
    "    kolom_hasil = soup_landingpage.find(\"div\",{\"class\":\"postcontent nobottommargin col_three_fifth col_last\"})\n",
    "    kasus = kolom_hasil.find_all(\"div\", {\"class\": \"spost clearfix\"})\n",
    "    for per_kasus in kasus:\n",
    "        ini_link = list(filter(lambda _ : len(_.find_all(\"a\")) > 0 ,per_kasus.find_all(\"strong\")))\n",
    "        output_link = ini_link[0].find(\"a\").get(\"href\")\n",
    "        val_insert_data_crawling = (output_link, \"belum\")\n",
    "        mycursor.execute(sql_insert_data_crawling, val_insert_data_crawling)\n",
    "        mydb.commit()\n",
    "    return(len(kasus),url_page)"
   ]
  },
  {
   "cell_type": "code",
   "execution_count": 12,
   "id": "de556491-f008-4fdb-84de-3a4510164b64",
   "metadata": {},
   "outputs": [
    {
     "name": "stdout",
     "output_type": "stream",
     "text": [
      "Processing 1/499 | Get 20 data | Total Data 20 data |https://putusan3.mahkamahagung.go.id/search.html?jenis_doc=putusan&page=1\n",
      "Done Processing All Data\n"
     ]
    }
   ],
   "source": [
    "num_awal_halaman = 1\n",
    "total_case_data = 0\n",
    "for _per in range(num_awal_halaman, num_total_halaman):\n",
    "    total_case,url = get_post_list(_per)\n",
    "    total_case_data += total_case\n",
    "    print(\"Processing \"+str(num_awal_halaman)+\"/\"+str(num_total_halaman)+\" | Get \"+str(total_case)+\" data | Total Data \"+str(total_case_data)+\" data |\"+url)\n",
    "    num_awal_halaman+=1\n",
    "    # break\n",
    "print(\"Done Processing All Data\")\n",
    "    "
   ]
  },
  {
   "cell_type": "markdown",
   "id": "d4f0117d-2fbb-42e3-8eae-8d5cc03c0078",
   "metadata": {},
   "source": [
    "## Get Kasus Per Link"
   ]
  },
  {
   "cell_type": "code",
   "execution_count": 13,
   "id": "d03aeb4d-991c-422d-84d0-f9f4be00a0d2",
   "metadata": {},
   "outputs": [],
   "source": [
    "def extract_page_detail(id_row, url_page):\n",
    "    try:\n",
    "        new_landingpage_kasus = requests.get(url_page)\n",
    "        soup_landingpage_kasus = BeautifulSoup(new_landingpage_kasus.text, 'html.parser')\n",
    "        kolom_hasil_detail = soup_landingpage_kasus.find(\"div\",{\"class\":\"tab-container\"})\n",
    "        kolom_hasil_detail_link = soup_landingpage_kasus.find(\"div\",{\"class\":\"col-sm-4 nobottommargin col_last\"})\n",
    "        kolom_kanan_hasil_link = kolom_hasil_detail_link.find(\"ul\",{\"class\":\"portfolio-meta nobottommargin\"}).find_all(\"li\")[-1].find(\"a\")\n",
    "        kasus_details = kolom_hasil_detail.find_all(\"tr\")[1:]\n",
    "        _all = {}\n",
    "        _allvalue = []\n",
    "        for _ in kasus_details:\n",
    "            _data = _.find_all(\"td\")\n",
    "            _kolom,_value = _data[0].text,_data[1].text\n",
    "            _all[_kolom.replace(\"\\t\",\"\").replace(\"\\n\",\"\").replace(\"\\r\",\"\").lower().replace(\" \",\"_\")] = _value.replace(\"\\t\",\"\").replace(\"\\n\",\"\").replace(\"\\r\",\"\")\n",
    "            _allvalue.append(_value.replace(\"\\t\",\"\").replace(\"\\n\",\"\").replace(\"\\r\",\"\"))\n",
    "        _allvalue.append(kolom_kanan_hasil_link.text)\n",
    "        _allvalue.append(kolom_kanan_hasil_link.get(\"href\"))\n",
    "        _all['source_url'] = url_page\n",
    "        _all['nama_file'] = kolom_kanan_hasil_link.text\n",
    "        _all['url_file'] = kolom_kanan_hasil_link.get(\"href\")\n",
    "        _all['status_download'] = \"belum\"\n",
    "\n",
    "        nama_kolom = list(_all.keys())\n",
    "        values_kolom = list(_all.values())\n",
    "        panjang_s = ['%s' for i in range(len(nama_kolom))]\n",
    "\n",
    "        sql_insert_data_crawling_detail = \"INSERT INTO crawling_detail (\"+','.join(nama_kolom)+\") VALUES (\"+','.join(panjang_s)+\")\";\n",
    "        # sql_insert_data_crawling_detail = \"INSERT INTO crawling_detail (nomor,tingkat_proses,klasifikasi,kata_kunci,tahun,tanggal_register,lembaga_peradilan,jenis_lembaga_peradilan,hakim_ketua,hakim_anggota,panitera,amar,amar_lainnya,catatan_amar,tanggal_musyawarah,tanggal_dibacakan,kaidah,abstrak,nama_file,url_file) VALUES (%s, %s,%s, %s,%s, %s,%s, %s, %s,%s, %s,%s, %s,%s, %s,%s, %s, %s,%s,%s)\"\n",
    "\n",
    "        mycursor.execute(sql_insert_data_crawling_detail, values_kolom)\n",
    "        mydb.commit()\n",
    "\n",
    "        sql = \"UPDATE crawling_link SET status = 'success' WHERE id = '\"+str(id_row)+\"'\"\n",
    "        mycursor.execute(sql)\n",
    "        mydb.commit()\n",
    "        return \"success\"\n",
    "    except:\n",
    "        sql = \"UPDATE crawling_link SET status = 'error' WHERE id = '\"+str(id_row)+\"'\"\n",
    "        mycursor.execute(sql)\n",
    "        mydb.commit()\n",
    "        return \"error\""
   ]
  },
  {
   "cell_type": "code",
   "execution_count": 14,
   "id": "4fdef623-cbf0-460d-b3df-f5461550d61b",
   "metadata": {},
   "outputs": [
    {
     "name": "stdout",
     "output_type": "stream",
     "text": [
      "Processing (1/20) | Message: error | Url:https://putusan3.mahkamahagung.go.id/direktori/putusan/c9c2b6844bb6b085bad202671daed564.html\n",
      "Processing (2/20) | Message: success | Url:https://putusan3.mahkamahagung.go.id/direktori/putusan/4e94bb5181db32b006ed0877dfb1f97a.html\n",
      "Processing (3/20) | Message: success | Url:https://putusan3.mahkamahagung.go.id/direktori/putusan/26f6a0439c762929fee147cbd765aa78.html\n",
      "Processing (4/20) | Message: success | Url:https://putusan3.mahkamahagung.go.id/direktori/putusan/475fed668b3e59a2af97dbffa8c8ccaa.html\n",
      "Processing (5/20) | Message: success | Url:https://putusan3.mahkamahagung.go.id/direktori/putusan/e04a8e983fd65c2e9330a9356da7a8ce.html\n",
      "Processing (6/20) | Message: success | Url:https://putusan3.mahkamahagung.go.id/direktori/putusan/ecec61ccb066a5434b59157ccc37ad07.html\n",
      "Processing (7/20) | Message: error | Url:https://putusan3.mahkamahagung.go.id/direktori/putusan/30104370baa585c8966622b9636c8782.html\n",
      "Processing (8/20) | Message: success | Url:https://putusan3.mahkamahagung.go.id/direktori/putusan/fba786d1e111bab452b38a40e5ed09f2.html\n",
      "Processing (9/20) | Message: success | Url:https://putusan3.mahkamahagung.go.id/direktori/putusan/f32e33825971f346f6241597545a3a9d.html\n",
      "Processing (10/20) | Message: success | Url:https://putusan3.mahkamahagung.go.id/direktori/putusan/f7ce618059ae3fbcaffd0eaacb8730a1.html\n",
      "Processing (11/20) | Message: success | Url:https://putusan3.mahkamahagung.go.id/direktori/putusan/a69679f8024093f07ef46f9e1d3c4b8c.html\n",
      "Processing (12/20) | Message: success | Url:https://putusan3.mahkamahagung.go.id/direktori/putusan/fe85f9051096dc28da213c9af17ff4e4.html\n",
      "Processing (13/20) | Message: success | Url:https://putusan3.mahkamahagung.go.id/direktori/putusan/e7da747daded1b774df9a60d3be026f8.html\n",
      "Processing (14/20) | Message: success | Url:https://putusan3.mahkamahagung.go.id/direktori/putusan/zaec11d019a489e89fae303734333232.html\n",
      "Processing (15/20) | Message: success | Url:https://putusan3.mahkamahagung.go.id/direktori/putusan/55a5420d0334e52ce5dd754fd2cc9f64.html\n",
      "Processing (16/20) | Message: success | Url:https://putusan3.mahkamahagung.go.id/direktori/putusan/a2227ddcb4363eda7eed0910e93d87c4.html\n",
      "Processing (17/20) | Message: success | Url:https://putusan3.mahkamahagung.go.id/direktori/putusan/a86cc29647c22be06644cec0b853814c.html\n",
      "Processing (18/20) | Message: success | Url:https://putusan3.mahkamahagung.go.id/direktori/putusan/31abfd6b765da9c22cb78e845d92f70b.html\n",
      "Processing (19/20) | Message: success | Url:https://putusan3.mahkamahagung.go.id/direktori/putusan/5a75bc46658c7e20b2d014f1ffaccec5.html\n",
      "Processing (20/20) | Message: success | Url:https://putusan3.mahkamahagung.go.id/direktori/putusan/zaeb7761137a9cba9334313930303338.html\n"
     ]
    }
   ],
   "source": [
    "mycursor.execute(\"SELECT * FROM crawling_link where status='belum'\")\n",
    "myresult = mycursor.fetchall()\n",
    "total = len(myresult)\n",
    "per_page = 1\n",
    "for per_my_result in myresult:\n",
    "    id_row = per_my_result[0]\n",
    "    url_page = per_my_result[1]\n",
    "    print(\"Processing (\"+str(per_page)+\"/\"+str(total)+\") | Message: \"+extract_page_detail(id_row,url_page)+\" | Url:\"+url_page)\n",
    "    per_page+=1\n",
    "    # break"
   ]
  },
  {
   "cell_type": "markdown",
   "id": "38d5c5a7-8832-4319-adf6-5f7b0630fb30",
   "metadata": {},
   "source": [
    "## Download File Function"
   ]
  },
  {
   "cell_type": "code",
   "execution_count": 42,
   "id": "fb72e38a-9f9c-41a9-93c2-59c654695880",
   "metadata": {},
   "outputs": [],
   "source": [
    "import wget\n",
    "def download_this_file(id_row,url_name,file_name):\n",
    "    nama_file = file_name.replace(\"/\",\"--\")\n",
    "    try:\n",
    "        wget.download(url_name, \"file_data_download/\"+nama_file)\n",
    "        sql = \"UPDATE crawling_detail SET status_download = 'success', crawling_file = '\"+nama_file+\"' WHERE id = '\"+str(id_row)+\"'\"\n",
    "        mycursor.execute(sql)\n",
    "        mydb.commit()\n",
    "        return nama_file,\"success\"\n",
    "    except:\n",
    "        sql = \"UPDATE crawling_detail SET status_download = 'gagal' WHERE id = '\"+str(id_row)+\"'\"\n",
    "        mycursor.execute(sql)\n",
    "        mydb.commit()\n",
    "        return nama_file,\"gagal\"\n",
    "    \n",
    "# url_file = 'https://putusan3.mahkamahagung.go.id/direktori/download_file/3a8649a000396c9a018939d8369a500b/pdf/zaec1145e94f6220b926313531343130'"
   ]
  },
  {
   "cell_type": "code",
   "execution_count": 43,
   "id": "7ee33eee-6f68-403f-a7c3-12fc59cd72a4",
   "metadata": {},
   "outputs": [
    {
     "name": "stdout",
     "output_type": "stream",
     "text": [
      "17\n"
     ]
    }
   ],
   "source": [
    "mycursor.execute(\"SELECT * FROM crawling_detail where status_download='belum'\")\n",
    "myresult = mycursor.fetchall()\n",
    "total = len(myresult)\n",
    "print(total)"
   ]
  },
  {
   "cell_type": "code",
   "execution_count": 45,
   "id": "298ef954-92ad-494d-9b8e-cdd8ee17ab6f",
   "metadata": {},
   "outputs": [
    {
     "name": "stdout",
     "output_type": "stream",
     "text": [
      "Processing (1/17) | Message: success | Nama File:33-K--PM.II-09--AD--III--2006.pdf\n"
     ]
    }
   ],
   "source": [
    "per_page = 1\n",
    "for _ in myresult:\n",
    "    id_row = _[0]\n",
    "    file_name = _[-5]\n",
    "    url_name = _[-4]\n",
    "    nama_file,message_hasil = download_this_file(id_row,url_name,file_name)\n",
    "    print(\"Processing (\"+str(per_page)+\"/\"+str(total)+\") | Message: \"+message_hasil+\" | Nama File:\"+nama_file)\n",
    "    # break\n",
    "    # print(_)"
   ]
  },
  {
   "cell_type": "code",
   "execution_count": null,
   "id": "63b5ca6a-fa7e-4d8f-938f-454da4c48725",
   "metadata": {},
   "outputs": [],
   "source": []
  }
 ],
 "metadata": {
  "kernelspec": {
   "display_name": "Python 3 (ipykernel)",
   "language": "python",
   "name": "python3"
  },
  "language_info": {
   "codemirror_mode": {
    "name": "ipython",
    "version": 3
   },
   "file_extension": ".py",
   "mimetype": "text/x-python",
   "name": "python",
   "nbconvert_exporter": "python",
   "pygments_lexer": "ipython3",
   "version": "3.10.5"
  }
 },
 "nbformat": 4,
 "nbformat_minor": 5
}
